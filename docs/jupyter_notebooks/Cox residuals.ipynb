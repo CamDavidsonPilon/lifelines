{
 "cells": [
  {
   "cell_type": "code",
   "execution_count": null,
   "metadata": {},
   "outputs": [],
   "source": [
    "%matplotlib inline\n",
    "%config InlineBackend.figure_format = 'retina'\n",
    "\n",
    "from matplotlib import pyplot as plt\n",
    "from lifelines import CoxPHFitter\n",
    "import numpy as np\n",
    "import pandas as pd\n",
    "from lifelines.datasets import load_rossi\n",
    "\n",
    "plt.style.use('bmh')"
   ]
  },
  {
   "cell_type": "markdown",
   "metadata": {},
   "source": [
    "## Residuals of a Cox Model\n",
    "\n",
    "This tutorial is on some common use cases of the (many) residuals of the Cox model. We can use resdiuals to diagnose a model's poor fit to a dataset, and improve an existing model's fit. "
   ]
  },
  {
   "cell_type": "code",
   "execution_count": null,
   "metadata": {},
   "outputs": [],
   "source": [
    "df = load_rossi()\n",
    "\n",
    "df['age_strata'] = pd.cut(df['age'], np.arange(0, 80, 5))\n",
    "df = df.drop('age', axis=1)\n",
    "\n",
    "cph = CoxPHFitter()\n",
    "cph.fit(df, 'week', 'arrest', strata=['age_strata', 'wexp'])"
   ]
  },
  {
   "cell_type": "code",
   "execution_count": null,
   "metadata": {},
   "outputs": [],
   "source": []
  },
  {
   "cell_type": "code",
   "execution_count": null,
   "metadata": {},
   "outputs": [],
   "source": [
    "cph.print_summary()\n",
    "cph.plot();"
   ]
  },
  {
   "cell_type": "markdown",
   "metadata": {},
   "source": [
    "### Martingale residuals\n",
    "\n",
    "Defined as:\n",
    "\n",
    "$$ \\delta_i - \\Lambda(T_i) \\\\ = \\delta_i - \\beta_0(T_i)\\exp(\\beta^T x_i)$$\n",
    "\n",
    "where $T_i$ is the total observation time of subject $i$ and $\\delta_i$ denotes whether they died under observation of not (`event_observed` in _lifelines_). \n",
    "\n",
    "From [1]:\n",
    "\n",
    "> Martingale residuals take a value between $[1,−\\inf]$ for uncensored observations and $[0,−\\inf]$ for censored observations. Martingale residuals can be used to assess the true functional form of a particular covariate (Thernau et al. (1990)). It is often useful to overlay a LOESS curve over this plot as they can be noisy in plots with lots of observations. Martingale residuals can also be used to assess outliers in the data set whereby the survivor function predicts an event either too early or too late, however, it's often better to use the deviance residual for this.\n",
    "\n",
    "From [2]:\n",
    "\n",
    "> This represents the discrepancy between the observed value of\n",
    "a subject’s failure indicator and its expected value, integrated\n",
    "over the time for which that patient was at risk\n",
    "\n",
    "> Positive values mean that the patient died sooner than\n",
    "expected (according to the model); negative values mean that\n",
    "the patient lived longer than expected (or were censored)"
   ]
  },
  {
   "cell_type": "code",
   "execution_count": null,
   "metadata": {},
   "outputs": [],
   "source": [
    "r = cph.compute_residuals(df, 'martingale')\n",
    "r.head()"
   ]
  },
  {
   "cell_type": "code",
   "execution_count": null,
   "metadata": {},
   "outputs": [],
   "source": [
    "r.plot.scatter(\n",
    "    x='week', y='martingale', c=np.where(r['arrest'], '#008fd5', '#fc4f30'),\n",
    "    alpha=0.75\n",
    ")"
   ]
  },
  {
   "cell_type": "code",
   "execution_count": null,
   "metadata": {},
   "outputs": [],
   "source": [
    "r = cph.compute_residuals(df, 'deviance')\n",
    "r.head()"
   ]
  },
  {
   "cell_type": "code",
   "execution_count": null,
   "metadata": {},
   "outputs": [],
   "source": [
    "r = r.join(df.drop(['week', 'arrest'], axis=1))\n"
   ]
  },
  {
   "cell_type": "code",
   "execution_count": null,
   "metadata": {},
   "outputs": [],
   "source": [
    "plt.scatter(r['prio'], r['deviance'], color=np.where(r['arrest'], '#008fd5', '#fc4f30'))"
   ]
  },
  {
   "cell_type": "markdown",
   "metadata": {},
   "source": [
    "[1] https://stats.stackexchange.com/questions/297740/what-is-the-difference-between-the-different-residuals-in-survival-analysis-cox\n",
    "\n",
    "[2] http://myweb.uiowa.edu/pbreheny/7210/f15/notes/11-10.pdf"
   ]
  }
 ],
 "metadata": {
  "kernelspec": {
   "display_name": "Python 3",
   "language": "python",
   "name": "python3"
  },
  "language_info": {
   "codemirror_mode": {
    "name": "ipython",
    "version": 3
   },
   "file_extension": ".py",
   "mimetype": "text/x-python",
   "name": "python",
   "nbconvert_exporter": "python",
   "pygments_lexer": "ipython3",
   "version": "3.7.1"
  }
 },
 "nbformat": 4,
 "nbformat_minor": 2
}
