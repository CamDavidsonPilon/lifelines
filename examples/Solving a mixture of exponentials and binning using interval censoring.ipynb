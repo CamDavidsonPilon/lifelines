{
 "cells": [
  {
   "cell_type": "markdown",
   "metadata": {},
   "source": [
    "Suppose we generate data from a mixture of exponentials with no censoring (this could be extended to censoring, but for our application we don't observe censoring). Furthermore, the data is not observed directly, but our instrument has binned the data into integer buckets. For example, the actual value is 4.3, but our instrument's resolution is too poor to measure the decimal point. So 4.3 goes into the \"4.x\" bucket. \n",
    "\n",
    "This model is easy to handle in *lifelines*. Instead of worrying about the binning, we can treat the system as an interval-censoring problem. That is, if an observation landed in the $i$th bin, then we know the _true_ data point occured somewhere between the $i$th and $i+1$th bin. This is precisely interval censoring. \n",
    "\n",
    "We can use *lifelines* custom model semantics to create a mixture model as well. The true model is:\n",
    "\n",
    "$$S(t) = p \\exp\\left(-\\frac{t}{\\lambda_1}\\right) + (1-p)\\exp\\left(-\\frac{t}{\\lambda_2}\\right)$$\n",
    "\n",
    "Therefore the cumulative hazard is:\n",
    "\n",
    "$$H(t) = -\\log(S(t)) = -\\log\\left(p \\exp\\left(-\\frac{t}{\\lambda_1}\\right) + (1-p)\\exp\\left(-\\frac{t}{\\lambda_2}\\right)\\right) $$"
   ]
  },
  {
   "cell_type": "code",
   "execution_count": 1,
   "metadata": {},
   "outputs": [],
   "source": [
    "from numpy.random import exponential\n",
    "from lifelines.fitters import ParametricUnivariateFitter\n",
    "import autograd.numpy as np\n",
    "np.random.seed(10)"
   ]
  },
  {
   "cell_type": "code",
   "execution_count": 2,
   "metadata": {},
   "outputs": [],
   "source": [
    "T = [exponential(20) for _ in range(10000)] + [exponential(40) for _ in range(500)]\n",
    "counts_obs = np.bincount(T)\n",
    "T_obs = np.arange(np.amax(T))"
   ]
  },
  {
   "cell_type": "code",
   "execution_count": 3,
   "metadata": {},
   "outputs": [
    {
     "data": {
      "text/plain": [
       "(0.0, 100.0)"
      ]
     },
     "execution_count": 3,
     "metadata": {},
     "output_type": "execute_result"
    },
    {
     "data": {
      "image/png": "[encoded data removed]",
      "text/plain": [
       "<Figure size 936x360 with 1 Axes>"
      ]
     },
     "metadata": {
      "needs_background": "light"
     },
     "output_type": "display_data"
    }
   ],
   "source": [
    "plt.figure(figsize=(13,5))\n",
    "plt.hist(counts_obs, bins=T_obs, density=True)\n",
    "plt.title(\"Histogram of observed durations\")\n",
    "plt.xlim(0, 100)"
   ]
  },
  {
   "cell_type": "code",
   "execution_count": 4,
   "metadata": {},
   "outputs": [
    {
     "name": "stdout",
     "output_type": "stream",
     "text": [
      "20.015428571428572\n"
     ]
    }
   ],
   "source": [
    "# To help the model avoid the \"non-identibility\" problem, we can set the *upper* bound of the first lambda to be \n",
    "# the average of the observed data, and the *lower* bound of the second lambda to the same value. Why? \n",
    "# We'd like to partition the postive reals into two halves, each containing one of the lambdas. The sample\n",
    "# mean of the data is v = p * lambda1 + (1-p) * lambda2, which has the property lambda1 < v < lambda2, therefore  \n",
    "# it will partition the space correctly. \n",
    "mean_obs = np.average(T_obs, weights=counts_obs)\n",
    "print(mean_obs)"
   ]
  },
  {
   "cell_type": "code",
   "execution_count": 5,
   "metadata": {},
   "outputs": [
    {
     "data": {
      "text/html": [
       "<div>\n",
       "<style scoped>\n",
       "    .dataframe tbody tr th:only-of-type {\n",
       "        vertical-align: middle;\n",
       "    }\n",
       "\n",
       "    .dataframe tbody tr th {\n",
       "        vertical-align: top;\n",
       "    }\n",
       "\n",
       "    .dataframe thead th {\n",
       "        text-align: right;\n",
       "    }\n",
       "</style>\n",
       "<table border=\"1\" class=\"dataframe\">\n",
       "  <tbody>\n",
       "    <tr>\n",
       "      <th>model</th>\n",
       "      <td>lifelines.MixtureExponential</td>\n",
       "    </tr>\n",
       "    <tr>\n",
       "      <th>number of observations</th>\n",
       "      <td>10500</td>\n",
       "    </tr>\n",
       "    <tr>\n",
       "      <th>number of events observed</th>\n",
       "      <td>0</td>\n",
       "    </tr>\n",
       "    <tr>\n",
       "      <th>log-likelihood</th>\n",
       "      <td>-42207.84</td>\n",
       "    </tr>\n",
       "    <tr>\n",
       "      <th>hypothesis</th>\n",
       "      <td>lambda1 != 10.0077, lambda2 != 40.0309, p != 0.5</td>\n",
       "    </tr>\n",
       "  </tbody>\n",
       "</table>\n",
       "</div><table border=\"1\" class=\"dataframe\">\n",
       "  <thead>\n",
       "    <tr style=\"text-align: right;\">\n",
       "      <th></th>\n",
       "      <th>coef</th>\n",
       "      <th>se(coef)</th>\n",
       "      <th>coef lower 95%</th>\n",
       "      <th>coef upper 95%</th>\n",
       "      <th>z</th>\n",
       "      <th>p</th>\n",
       "      <th>-log2(p)</th>\n",
       "    </tr>\n",
       "  </thead>\n",
       "  <tbody>\n",
       "    <tr>\n",
       "      <th>lambda1</th>\n",
       "      <td>18.04</td>\n",
       "      <td>1.34</td>\n",
       "      <td>15.41</td>\n",
       "      <td>20.67</td>\n",
       "      <td>5.98</td>\n",
       "      <td>&lt;0.005</td>\n",
       "      <td>28.77</td>\n",
       "    </tr>\n",
       "    <tr>\n",
       "      <th>lambda2</th>\n",
       "      <td>29.89</td>\n",
       "      <td>5.33</td>\n",
       "      <td>19.44</td>\n",
       "      <td>40.34</td>\n",
       "      <td>-1.90</td>\n",
       "      <td>0.06</td>\n",
       "      <td>4.13</td>\n",
       "    </tr>\n",
       "    <tr>\n",
       "      <th>p</th>\n",
       "      <td>0.79</td>\n",
       "      <td>0.18</td>\n",
       "      <td>0.44</td>\n",
       "      <td>1.14</td>\n",
       "      <td>1.63</td>\n",
       "      <td>0.10</td>\n",
       "      <td>3.28</td>\n",
       "    </tr>\n",
       "  </tbody>\n",
       "</table><div>\n",
       "<style scoped>\n",
       "    .dataframe tbody tr th:only-of-type {\n",
       "        vertical-align: middle;\n",
       "    }\n",
       "\n",
       "    .dataframe tbody tr th {\n",
       "        vertical-align: top;\n",
       "    }\n",
       "\n",
       "    .dataframe thead th {\n",
       "        text-align: right;\n",
       "    }\n",
       "</style>\n",
       "<table border=\"1\" class=\"dataframe\">\n",
       "  <tbody>\n",
       "    <tr>\n",
       "      <th>AIC</th>\n",
       "      <td>84421.68</td>\n",
       "    </tr>\n",
       "  </tbody>\n",
       "</table>\n",
       "</div>"
      ],
      "text/latex": [
       "\\begin{tabular}{lrrrrrrr}\n",
       "\\toprule\n",
       "{} &  coef &  se(coef) &  coef lower 95\\% &  coef upper 95\\% &     z &    p &  -log2(p) \\\\\n",
       "\\midrule\n",
       "lambda1 & 18.04 &      1.34 &           15.41 &           20.67 &  5.98 & 0.00 &     28.77 \\\\\n",
       "lambda2 & 29.89 &      5.33 &           19.44 &           40.34 & -1.90 & 0.06 &      4.13 \\\\\n",
       "p       &  0.79 &      0.18 &            0.44 &            1.14 &  1.63 & 0.10 &      3.28 \\\\\n",
       "\\bottomrule\n",
       "\\end{tabular}\n"
      ],
      "text/plain": [
       "<lifelines.MixtureExponential:\"MixtureExponential_estimate\", fitted with 10500 total observations, 10500 interval-censored observations>\n",
       "   number of observations = 10500\n",
       "number of events observed = 0\n",
       "           log-likelihood = -42207.84\n",
       "               hypothesis = lambda1 != 10.0077, lambda2 != 40.0309, p != 0.5\n",
       "\n",
       "---\n",
       "          coef   se(coef)   coef lower 95%   coef upper 95%     z      p   -log2(p)\n",
       "lambda1  18.04       1.34            15.41            20.67  5.98 <0.005      28.77\n",
       "lambda2  29.89       5.33            19.44            40.34 -1.90   0.06       4.13\n",
       "p         0.79       0.18             0.44             1.14  1.63   0.10       3.28\n",
       "---\n",
       "AIC = 84421.68"
      ]
     },
     "metadata": {},
     "output_type": "display_data"
    }
   ],
   "source": [
    "class MixtureExponential(ParametricUnivariateFitter):\n",
    "\n",
    "    _fitted_parameter_names = ['lambda1', 'lambda2', 'p']\n",
    "    _bounds = [(0, mean_obs), (mean_obs, None), (0, 1)]\n",
    "\n",
    "    def _cumulative_hazard(self, params, t):\n",
    "        l1, l2, p = params\n",
    "        return -np.log(p * np.exp(-t / l1) + (1-p) * np.exp(-t / l2))\n",
    "\n",
    "\n",
    "model = MixtureExponential()\n",
    "model.fit_interval_censoring(\n",
    "    lower_bound=T_obs, \n",
    "    upper_bound=T_obs + 1, \n",
    "    weights=counts_obs, \n",
    "    initial_point=np.array([mean_obs / 2, mean_obs * 2, 0.5])\n",
    ")\n",
    "\n",
    "model.print_summary()"
   ]
  },
  {
   "cell_type": "code",
   "execution_count": 7,
   "metadata": {},
   "outputs": [
    {
     "data": {
      "text/plain": [
       "<AxesSubplot:>"
      ]
     },
     "execution_count": 7,
     "metadata": {},
     "output_type": "execute_result"
    },
    {
     "data": {
      "image/png": "[encoded data removed]",
      "text/plain": [
       "<Figure size 576x360 with 1 Axes>"
      ]
     },
     "metadata": {
      "needs_background": "light"
     },
     "output_type": "display_data"
    }
   ],
   "source": [
    "model.plot_cumulative_hazard(figsize=(8,5))"
   ]
  },
  {
   "cell_type": "code",
   "execution_count": null,
   "metadata": {},
   "outputs": [],
   "source": []
  },
  {
   "cell_type": "code",
   "execution_count": null,
   "metadata": {},
   "outputs": [],
   "source": []
  }
 ],
 "metadata": {
  "kernelspec": {
   "display_name": "Python 3",
   "language": "python",
   "name": "python3"
  },
  "language_info": {
   "codemirror_mode": {
    "name": "ipython",
    "version": 3
   },
   "file_extension": ".py",
   "mimetype": "text/x-python",
   "name": "python",
   "nbconvert_exporter": "python",
   "pygments_lexer": "ipython3",
   "version": "3.7.7"
  }
 },
 "nbformat": 4,
 "nbformat_minor": 2
}
