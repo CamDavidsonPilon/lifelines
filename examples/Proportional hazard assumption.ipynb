{
 "cells": [
  {
   "cell_type": "code",
   "execution_count": 1,
   "metadata": {},
   "outputs": [],
   "source": [
    "%matplotlib inline\n",
    "%config InlineBackend.figure_format = 'retina'\n",
    "\n",
    "from matplotlib import pyplot as plt\n",
    "from lifelines import CoxPHFitter\n",
    "import numpy as np\n",
    "import pandas as pd"
   ]
  },
  {
   "cell_type": "markdown",
   "metadata": {},
   "source": [
    "## Testing the proportional hazard assumptions\n",
    "\n",
    "This Jupyter notebook is a small tutorial on how to test and fix proportional hazard problems. \n",
    "\n",
    "The proportional hazard assumption is that _all_ individuals have the same hazard function, but a unique scaling factor infront. So the _shape_ of the hazard function is the same for all individuals, and only a scalar infront changes. \n",
    "\n",
    "$$h_i(t) = a_i h(t)$$\n",
    "\n",
    "At the core of the  assumption is that $a_i$ is not time varying, that is, $a_i(t) = a_i$.. In this tutorial we will test this non-time varying assumption, and look at ways to handle violations. \n"
   ]
  },
  {
   "cell_type": "code",
   "execution_count": 38,
   "metadata": {},
   "outputs": [
    {
     "data": {
      "text/plain": [
       "<lifelines.CoxPHFitter: fitted with 432 observations, 318 censored>"
      ]
     },
     "execution_count": 38,
     "metadata": {},
     "output_type": "execute_result"
    }
   ],
   "source": [
    "from lifelines.datasets import load_rossi\n",
    "rossi = load_rossi()\n",
    "cph = CoxPHFitter()\n",
    "\n",
    "cph.fit(rossi, 'week', 'arrest')"
   ]
  },
  {
   "cell_type": "code",
   "execution_count": 39,
   "metadata": {},
   "outputs": [
    {
     "name": "stdout",
     "output_type": "stream",
     "text": [
      "<lifelines.CoxPHFitter: fitted with 432 observations, 318 censored>\n",
      "      duration col = 'week'\n",
      "         event col = 'arrest'\n",
      "number of subjects = 432\n",
      "  number of events = 114\n",
      "    log-likelihood = -658.748\n",
      "  time fit was run = 2019-02-19 17:35:13 UTC\n",
      "             model = untransformed variables\n",
      "\n",
      "\n",
      "---\n",
      "       coef  exp(coef)  se(coef)      z     p  -log2(p)  lower 0.95  upper 0.95\n",
      "fin  -0.379      0.684     0.191 -1.983 0.047     4.398      -0.755      -0.004\n",
      "age  -0.057      0.944     0.022 -2.611 0.009     6.791      -0.101      -0.014\n",
      "race  0.314      1.369     0.308  1.019 0.308     1.698      -0.290       0.918\n",
      "wexp -0.150      0.861     0.212 -0.706 0.480     1.058      -0.566       0.266\n",
      "mar  -0.434      0.648     0.382 -1.136 0.256     1.965      -1.182       0.315\n",
      "paro -0.085      0.919     0.196 -0.434 0.665     0.589      -0.469       0.299\n",
      "prio  0.091      1.096     0.029  3.194 0.001     9.476       0.035       0.148\n",
      "---\n",
      "Concordance = 0.640\n",
      "Log-likelihood ratio test = 33.266 on 7 df, -log2(p)=15.370\n"
     ]
    }
   ],
   "source": [
    "cph.print_summary(model=\"untransformed variables\", decimals=3)"
   ]
  },
  {
   "cell_type": "markdown",
   "metadata": {},
   "source": [
    "### Checking assumptions with `check_assumptions`\n",
    "\n",
    "New to lifelines 0.16.0 is the `CoxPHFitter.check_assumptions` method. This method will compute statistics that check the proportional hazard assumption, produce plots to check assumptions, and more. Also included is an option to display advice to the console. Here's a breakdown of each information displayed:\n",
    "\n",
    " - Presented first are the results of a statistical test to test for any time-varying coefficients. A time-varying coefficient imply a covariate's influence _relative to the baseline_ changes over time. This implies a violation of the proportional hazard assumption. For each variable, we transform _time_ four times (these are common transformations of time to perform). If _lifelines_ rejects the null (that is, _lifelines_ rejects that the coefficient is not time-varying), we report this to the user.\n",
    " - Some advice is presented on how to correct the proportional hazard violation based on some summary statistics of the variable. \n",
    " - As a compliment to the above statistical test, for each variable that violates the PH assumption, visual plots of the the _scaled Schoenfeld residuals_ is presented against the four time transformations. A fitted lowess is also presented, along with 10 bootstrapped lowess lines (as an approximation to the confidence interval of the original lowess line). Ideally, this lowess line is constant (flat). Deviations away from the constant line are violations of the PH assumption. \n",
    " \n",
    "####  Why the _scaled Schoenfeld residuals_?\n",
    " \n",
    "This section can be skipped on first read. Let $s_{t,j}$ denote the scaled Schoenfeld residuals of variable $j$ at time $t$, $\\hat{\\beta_j}$ denote the maximum-likelihood estimate of the $j$th variable, and $\\beta_j(t)$ a time-varying coefficient in (fictional) alternative model that allows for time-varying coefficients. Therneau and Grambsch showed that. \n",
    "\n",
    "$$E[s_{t,j}] + \\hat{\\beta_j} = \\beta_j(t)$$\n",
    "\n",
    "The proportional hazard assumption implies that $\\hat{\\beta_j} = \\beta_j(t)$, hence $E[s_{t,j}] = 0$. This is what the above proportional hazard test is testing. Visually, plotting $s_{t,j}$ over time (or some transform of time), is a good way to see violations of $E[s_{t,j}] = 0$, along with the statisical test. "
   ]
  },
  {
   "cell_type": "code",
   "execution_count": 4,
   "metadata": {},
   "outputs": [
    {
     "name": "stdout",
     "output_type": "stream",
     "text": [
      "\n",
      "The ``p_value_threshold`` is set at 0.05. Even under the null hypothesis of no violations, some covariates\n",
      "will be below the threshold (i.e. by chance). This is compounded when there are many covariates.\n",
      "\n",
      "Similarly, when there are lots of observations, even minor deviances from the proportional hazard\n",
      "assumption will be flagged.\n",
      "\n",
      "With that in mind, it's best to use a combination of statistical tests and eyeball tests to\n",
      "determine the most serious violations.\n",
      "\n",
      "\n",
      "<lifelines.StatisticalResult>\n",
      "         test_name = proportional_hazard_test\n",
      " null_distribution = chi squared\n",
      "degrees_of_freedom = 1\n",
      "\n",
      "---\n",
      "           test_statistic      p  -log2(p)\n",
      "age  km             11.03 <0.005     10.12\n",
      "     rank           11.09 <0.005     10.17\n",
      "fin  km              0.02   0.89      0.17\n",
      "     rank            0.02   0.90      0.16\n",
      "mar  km              0.60   0.44      1.19\n",
      "     rank            0.67   0.41      1.27\n",
      "paro km              0.12   0.73      0.45\n",
      "     rank            0.14   0.71      0.49\n",
      "prio km              0.02   0.88      0.18\n",
      "     rank            0.02   0.88      0.18\n",
      "race km              1.44   0.23      2.12\n",
      "     rank            1.46   0.23      2.14\n",
      "wexp km              7.48   0.01      7.32\n",
      "     rank            7.18   0.01      7.08\n",
      "\n",
      "\n",
      "1. Variable 'age' failed the non-proportional test: p-value is 0.0009.\n",
      "   Advice: try binning the variable 'age' using pd.cut, and then specify it in `strata=['age']` in the call in `.fit`. See documentation in link [A] and [B] below.\n",
      "   Advice: try adding an interaction term with your time variable. See documentation in link [A] and specifically link [C] below.\n",
      "\n",
      "2. Variable 'wexp' failed the non-proportional test: p-value is 0.0063.\n",
      "   Advice: with so few unique values (only 2), you can try `strata=['wexp']` in the call in `.fit`. See documentation in link [A] and [B] below.\n",
      "\n",
      "---\n",
      "[A]  https://lifelines.readthedocs.io/en/latest/jupyter_notebooks/Proportional%20hazard%20assumption.html\n",
      "[B]  https://lifelines.readthedocs.io/en/latest/Survival%20Regression.html#checking-the-proportional-hazards-assumption\n",
      "[C]  https://lifelines.readthedocs.io/en/latest/jupyter_notebooks/Proportional%20hazard%20assumption.html#Option-2:-introduce-time-varying-covariates\n",
      "\n"
     ]
    }
   ],
   "source": [
    "cph.check_assumptions(rossi)"
   ]
  },
  {
   "cell_type": "markdown",
   "metadata": {},
   "source": [
    "Alternatively, you can use the proportional hazard test outside of `check_assumptions`:"
   ]
  },
  {
   "cell_type": "code",
   "execution_count": 5,
   "metadata": {},
   "outputs": [
    {
     "name": "stdout",
     "output_type": "stream",
     "text": [
      "<lifelines.StatisticalResult>\n",
      "         test_name = proportional_hazard_test\n",
      "    time_transform = rank\n",
      " null_distribution = chi squared\n",
      "degrees_of_freedom = 1\n",
      "             model = untransformed variables\n",
      "\n",
      "---\n",
      "      test_statistic     p  -log2(p)\n",
      "age           11.094 0.001    10.173\n",
      "fin            0.017 0.896     0.158\n",
      "mar            0.666 0.414     1.271\n",
      "paro           0.138 0.711     0.493\n",
      "prio           0.023 0.881     0.183\n",
      "race           1.462 0.227     2.141\n",
      "wexp           7.180 0.007     7.084\n"
     ]
    }
   ],
   "source": [
    "from lifelines.statistics import proportional_hazard_test\n",
    "\n",
    "results = proportional_hazard_test(cph, rossi, time_transform='rank')\n",
    "results.print_summary(decimals=3, model=\"untransformed variables\")"
   ]
  },
  {
   "cell_type": "markdown",
   "metadata": {},
   "source": [
    "In the advice above, we can see that `wexp` has small cardinality, so we can easily fix that by specifying it in the `strata`. What does the `strata` do? Let's go back to the proportional hazard assumption.\n",
    "\n",
    "In the introduction, we said that the proportional hazard assumption was that \n",
    "\n",
    "$$ h_i(t) = a_i h(t)$$\n",
    "\n",
    "In a simple case, it may be that there are two subgroups that have _very_ different baseline hazards. That is, we can split the dataset into subsamples based on some variable (we call this the stratifying variable), run the Cox model on all subsamples, and compare their baseline hazards. If these baseline hazards are _very_ different, then clearly the formula above is wrong - the $h(t)$ is some weighted average of the subgroups' baseline hazards. This ill fitting average baseline can cause $a_i$ to have time-dependent influence. A better model might be:\n",
    "\n",
    "$$ h_{i |i\\in G}(t) = a_i h_G(t)$$\n",
    "\n",
    "where now we have a unique baseline hazard _per_ subgroup $G$. Because of the way the Cox model is designed, inference of the coefficients is identical (expect now there are more baseline hazards, and no variation of the stratifying variable within a subgroup $G$). \n"
   ]
  },
  {
   "cell_type": "code",
   "execution_count": 6,
   "metadata": {},
   "outputs": [
    {
     "name": "stdout",
     "output_type": "stream",
     "text": [
      "<lifelines.CoxPHFitter: fitted with 432 observations, 318 censored>\n",
      "      duration col = 'week'\n",
      "         event col = 'arrest'\n",
      "            strata = ['wexp']\n",
      "number of subjects = 432\n",
      "  number of events = 114\n",
      "    log-likelihood = -580.89\n",
      "  time fit was run = 2019-02-19 17:30:49 UTC\n",
      "\n",
      "---\n",
      "      coef  exp(coef)  se(coef)     z      p  -log2(p)  lower 0.99  upper 0.99\n",
      "fin  -0.38       0.68      0.19 -1.99   0.05      4.42       -0.87        0.11\n",
      "age  -0.06       0.94      0.02 -2.64   0.01      6.91       -0.12       -0.00\n",
      "race  0.31       1.36      0.31  1.00   0.32      1.65       -0.49        1.10\n",
      "mar  -0.45       0.64      0.38 -1.19   0.23      2.09       -1.44        0.53\n",
      "paro -0.08       0.92      0.20 -0.42   0.67      0.57       -0.59        0.42\n",
      "prio  0.09       1.09      0.03  3.16 <0.005      9.33        0.02        0.16\n",
      "---\n",
      "Concordance = 0.61\n",
      "Log-likelihood ratio test = 188.99 on 6 df, -log2(p)=124.17\n"
     ]
    }
   ],
   "source": [
    "cph.fit(rossi, 'week', 'arrest', strata=['wexp'])\n",
    "cph.print_summary()"
   ]
  },
  {
   "cell_type": "code",
   "execution_count": 7,
   "metadata": {},
   "outputs": [
    {
     "name": "stdout",
     "output_type": "stream",
     "text": [
      "\n",
      "The ``p_value_threshold`` is set at 0.05. Even under the null hypothesis of no violations, some covariates\n",
      "will be below the threshold (i.e. by chance). This is compounded when there are many covariates.\n",
      "\n",
      "Similarly, when there are lots of observations, even minor deviances from the proportional hazard\n",
      "assumption will be flagged.\n",
      "\n",
      "With that in mind, it's best to use a combination of statistical tests and eyeball tests to\n",
      "determine the most serious violations.\n",
      "\n",
      "\n",
      "<lifelines.StatisticalResult>\n",
      "         test_name = proportional_hazard_test\n",
      " null_distribution = chi squared\n",
      "degrees_of_freedom = 1\n",
      "\n",
      "---\n",
      "           test_statistic      p  -log2(p)\n",
      "age  km             11.29 <0.005     10.32\n",
      "     rank            4.62   0.03      4.99\n",
      "fin  km              0.02   0.90      0.16\n",
      "     rank            0.05   0.83      0.28\n",
      "mar  km              0.53   0.47      1.10\n",
      "     rank            1.31   0.25      1.99\n",
      "paro km              0.09   0.76      0.40\n",
      "     rank            0.00   0.97      0.05\n",
      "prio km              0.02   0.89      0.16\n",
      "     rank            0.02   0.90      0.16\n",
      "race km              1.47   0.23      2.15\n",
      "     rank            0.64   0.42      1.23\n",
      "\n",
      "\n",
      "1. Variable 'age' failed the non-proportional test: p-value is 0.0008.\n",
      "   Advice: try binning the variable 'age' using pd.cut, and then specify it in `strata=['age']` in the call in `.fit`. See documentation in link [A] and [B] below.\n",
      "   Advice: try adding an interaction term with your time variable. See documentation in link [A] and specifically link [C] below.\n",
      "\n",
      "---\n",
      "[A]  https://lifelines.readthedocs.io/en/latest/jupyter_notebooks/Proportional%20hazard%20assumption.html\n",
      "[B]  https://lifelines.readthedocs.io/en/latest/Survival%20Regression.html#checking-the-proportional-hazards-assumption\n",
      "[C]  https://lifelines.readthedocs.io/en/latest/jupyter_notebooks/Proportional%20hazard%20assumption.html#Option-2:-introduce-time-varying-covariates\n",
      "\n"
     ]
    }
   ],
   "source": [
    "cph.check_assumptions(rossi)"
   ]
  },
  {
   "cell_type": "markdown",
   "metadata": {},
   "source": [
    "Since `age` is still violating the proportional hazard assumption, we need to model it better.  From the residual plots above, we can see a the effect of age start to become negative over time. This will be relevant later. Below, we present two options to handle `age`. \n",
    "\n",
    "#### Option 1: bin variable and stratify on it\n",
    "\n",
    "\n",
    "The first option proposed is to bin the variable into equal-sized bins, and stratify like we did with `wexp`. There is a trade off here between estimation and information-loss. If we have large bins, we will lose information (since different values are now binned together), but we need to estimate less new baseline hazards. On the other hand, with tiny bins, we allow the `age` data to have the most \"wiggle room\", but must compute many baseline hazards each of which has a smaller sample size. Like most things, the optimial value is somewhere inbetween."
   ]
  },
  {
   "cell_type": "code",
   "execution_count": 8,
   "metadata": {},
   "outputs": [
    {
     "data": {
      "text/html": [
       "<div>\n",
       "<style scoped>\n",
       "    .dataframe tbody tr th:only-of-type {\n",
       "        vertical-align: middle;\n",
       "    }\n",
       "\n",
       "    .dataframe tbody tr th {\n",
       "        vertical-align: top;\n",
       "    }\n",
       "\n",
       "    .dataframe thead th {\n",
       "        text-align: right;\n",
       "    }\n",
       "</style>\n",
       "<table border=\"1\" class=\"dataframe\">\n",
       "  <thead>\n",
       "    <tr style=\"text-align: right;\">\n",
       "      <th></th>\n",
       "      <th>age</th>\n",
       "      <th>age_strata</th>\n",
       "    </tr>\n",
       "  </thead>\n",
       "  <tbody>\n",
       "    <tr>\n",
       "      <th>0</th>\n",
       "      <td>27</td>\n",
       "      <td>(24, 27]</td>\n",
       "    </tr>\n",
       "    <tr>\n",
       "      <th>1</th>\n",
       "      <td>18</td>\n",
       "      <td>(15, 18]</td>\n",
       "    </tr>\n",
       "    <tr>\n",
       "      <th>2</th>\n",
       "      <td>19</td>\n",
       "      <td>(18, 21]</td>\n",
       "    </tr>\n",
       "    <tr>\n",
       "      <th>3</th>\n",
       "      <td>23</td>\n",
       "      <td>(21, 24]</td>\n",
       "    </tr>\n",
       "    <tr>\n",
       "      <th>4</th>\n",
       "      <td>19</td>\n",
       "      <td>(18, 21]</td>\n",
       "    </tr>\n",
       "  </tbody>\n",
       "</table>\n",
       "</div>"
      ],
      "text/plain": [
       "   age age_strata\n",
       "0   27   (24, 27]\n",
       "1   18   (15, 18]\n",
       "2   19   (18, 21]\n",
       "3   23   (21, 24]\n",
       "4   19   (18, 21]"
      ]
     },
     "execution_count": 8,
     "metadata": {},
     "output_type": "execute_result"
    }
   ],
   "source": [
    "rossi_strata_age = rossi.copy()\n",
    "rossi_strata_age['age_strata'] = pd.cut(rossi_strata_age['age'], np.arange(0, 80, 3))\n",
    "\n",
    "rossi_strata_age[['age', 'age_strata']].head()"
   ]
  },
  {
   "cell_type": "code",
   "execution_count": 9,
   "metadata": {},
   "outputs": [
    {
     "data": {
      "text/plain": [
       "<lifelines.CoxPHFitter: fitted with 432 observations, 318 censored>"
      ]
     },
     "execution_count": 9,
     "metadata": {},
     "output_type": "execute_result"
    }
   ],
   "source": [
    "# drop the orignal, redundant, age column\n",
    "rossi_strata_age = rossi_strata_age.drop('age', axis=1)\n",
    "cph.fit(rossi_strata_age, 'week', 'arrest', strata=['age_strata', 'wexp'])"
   ]
  },
  {
   "cell_type": "code",
   "execution_count": 10,
   "metadata": {},
   "outputs": [
    {
     "name": "stdout",
     "output_type": "stream",
     "text": [
      "<lifelines.CoxPHFitter: fitted with 432 observations, 318 censored>\n",
      "      duration col = 'week'\n",
      "         event col = 'arrest'\n",
      "            strata = ['age_strata', 'wexp']\n",
      "number of subjects = 432\n",
      "  number of events = 114\n",
      "    log-likelihood = -392.443\n",
      "  time fit was run = 2019-02-19 17:30:49 UTC\n",
      "             model = stratified age and wexp\n",
      "\n",
      "\n",
      "---\n",
      "       coef  exp(coef)  se(coef)      z     p  -log2(p)  lower 0.99  upper 0.99\n",
      "fin  -0.395      0.674     0.197 -2.004 0.045     4.472      -0.903       0.113\n",
      "race  0.280      1.324     0.313  0.895 0.371     1.431      -0.527       1.088\n",
      "mar  -0.194      0.824     0.392 -0.494 0.621     0.687      -1.202       0.815\n",
      "paro -0.163      0.849     0.200 -0.818 0.413     1.275      -0.678       0.351\n",
      "prio  0.080      1.084     0.028  2.854 0.004     7.857       0.008       0.153\n",
      "---\n",
      "Concordance = 0.582\n",
      "Log-likelihood ratio test = 565.874 on 5 df, -log2(p)=396.379\n"
     ]
    },
    {
     "data": {
      "text/plain": [
       "<matplotlib.axes._subplots.AxesSubplot at 0x124919438>"
      ]
     },
     "execution_count": 10,
     "metadata": {},
     "output_type": "execute_result"
    },
    {
     "data": {
      "image/png": "[encoded data removed]",
      "text/plain": [
       "<Figure size 432x288 with 1 Axes>"
      ]
     },
     "metadata": {
      "image/png": {
       "height": 263,
       "width": 380
      },
      "needs_background": "light"
     },
     "output_type": "display_data"
    }
   ],
   "source": [
    "cph.print_summary(3, model=\"stratified age and wexp\")\n",
    "cph.plot()"
   ]
  },
  {
   "cell_type": "code",
   "execution_count": 11,
   "metadata": {},
   "outputs": [
    {
     "name": "stdout",
     "output_type": "stream",
     "text": [
      "Proportional hazard assumption looks okay.\n"
     ]
    }
   ],
   "source": [
    "cph.check_assumptions(rossi_strata_age)"
   ]
  },
  {
   "cell_type": "markdown",
   "metadata": {},
   "source": [
    "#### Option 2: introduce time-varying covariates\n",
    "\n",
    "Our second option to correct variables that violate the proportional hazard assumption is to model the time-varying component directly. This is done in two steps. The first is to transform your dataset into _episodic format_. This means that we split a subject from a single row into $n$ new rows, and each new row represents some time period for the subject. It's okay that the variables are static over this new time periods - we'll introduce some time-varying covariates later.\n",
    "\n",
    "See below for how to do this in _lifelines_:"
   ]
  },
  {
   "cell_type": "code",
   "execution_count": 12,
   "metadata": {},
   "outputs": [
    {
     "data": {
      "text/html": [
       "<div>\n",
       "<style scoped>\n",
       "    .dataframe tbody tr th:only-of-type {\n",
       "        vertical-align: middle;\n",
       "    }\n",
       "\n",
       "    .dataframe tbody tr th {\n",
       "        vertical-align: top;\n",
       "    }\n",
       "\n",
       "    .dataframe thead th {\n",
       "        text-align: right;\n",
       "    }\n",
       "</style>\n",
       "<table border=\"1\" class=\"dataframe\">\n",
       "  <thead>\n",
       "    <tr style=\"text-align: right;\">\n",
       "      <th></th>\n",
       "      <th>stop</th>\n",
       "      <th>start</th>\n",
       "      <th>arrest</th>\n",
       "      <th>age</th>\n",
       "      <th>fin</th>\n",
       "      <th>id</th>\n",
       "      <th>mar</th>\n",
       "      <th>paro</th>\n",
       "      <th>prio</th>\n",
       "      <th>race</th>\n",
       "      <th>wexp</th>\n",
       "    </tr>\n",
       "  </thead>\n",
       "  <tbody>\n",
       "    <tr>\n",
       "      <th>0</th>\n",
       "      <td>1.0</td>\n",
       "      <td>0.0</td>\n",
       "      <td>0</td>\n",
       "      <td>27</td>\n",
       "      <td>0</td>\n",
       "      <td>0</td>\n",
       "      <td>0</td>\n",
       "      <td>1</td>\n",
       "      <td>3</td>\n",
       "      <td>1</td>\n",
       "      <td>0</td>\n",
       "    </tr>\n",
       "    <tr>\n",
       "      <th>1</th>\n",
       "      <td>2.0</td>\n",
       "      <td>1.0</td>\n",
       "      <td>0</td>\n",
       "      <td>27</td>\n",
       "      <td>0</td>\n",
       "      <td>0</td>\n",
       "      <td>0</td>\n",
       "      <td>1</td>\n",
       "      <td>3</td>\n",
       "      <td>1</td>\n",
       "      <td>0</td>\n",
       "    </tr>\n",
       "    <tr>\n",
       "      <th>2</th>\n",
       "      <td>3.0</td>\n",
       "      <td>2.0</td>\n",
       "      <td>0</td>\n",
       "      <td>27</td>\n",
       "      <td>0</td>\n",
       "      <td>0</td>\n",
       "      <td>0</td>\n",
       "      <td>1</td>\n",
       "      <td>3</td>\n",
       "      <td>1</td>\n",
       "      <td>0</td>\n",
       "    </tr>\n",
       "    <tr>\n",
       "      <th>3</th>\n",
       "      <td>4.0</td>\n",
       "      <td>3.0</td>\n",
       "      <td>0</td>\n",
       "      <td>27</td>\n",
       "      <td>0</td>\n",
       "      <td>0</td>\n",
       "      <td>0</td>\n",
       "      <td>1</td>\n",
       "      <td>3</td>\n",
       "      <td>1</td>\n",
       "      <td>0</td>\n",
       "    </tr>\n",
       "    <tr>\n",
       "      <th>4</th>\n",
       "      <td>5.0</td>\n",
       "      <td>4.0</td>\n",
       "      <td>0</td>\n",
       "      <td>27</td>\n",
       "      <td>0</td>\n",
       "      <td>0</td>\n",
       "      <td>0</td>\n",
       "      <td>1</td>\n",
       "      <td>3</td>\n",
       "      <td>1</td>\n",
       "      <td>0</td>\n",
       "    </tr>\n",
       "    <tr>\n",
       "      <th>5</th>\n",
       "      <td>6.0</td>\n",
       "      <td>5.0</td>\n",
       "      <td>0</td>\n",
       "      <td>27</td>\n",
       "      <td>0</td>\n",
       "      <td>0</td>\n",
       "      <td>0</td>\n",
       "      <td>1</td>\n",
       "      <td>3</td>\n",
       "      <td>1</td>\n",
       "      <td>0</td>\n",
       "    </tr>\n",
       "    <tr>\n",
       "      <th>6</th>\n",
       "      <td>7.0</td>\n",
       "      <td>6.0</td>\n",
       "      <td>0</td>\n",
       "      <td>27</td>\n",
       "      <td>0</td>\n",
       "      <td>0</td>\n",
       "      <td>0</td>\n",
       "      <td>1</td>\n",
       "      <td>3</td>\n",
       "      <td>1</td>\n",
       "      <td>0</td>\n",
       "    </tr>\n",
       "    <tr>\n",
       "      <th>7</th>\n",
       "      <td>8.0</td>\n",
       "      <td>7.0</td>\n",
       "      <td>0</td>\n",
       "      <td>27</td>\n",
       "      <td>0</td>\n",
       "      <td>0</td>\n",
       "      <td>0</td>\n",
       "      <td>1</td>\n",
       "      <td>3</td>\n",
       "      <td>1</td>\n",
       "      <td>0</td>\n",
       "    </tr>\n",
       "    <tr>\n",
       "      <th>8</th>\n",
       "      <td>9.0</td>\n",
       "      <td>8.0</td>\n",
       "      <td>0</td>\n",
       "      <td>27</td>\n",
       "      <td>0</td>\n",
       "      <td>0</td>\n",
       "      <td>0</td>\n",
       "      <td>1</td>\n",
       "      <td>3</td>\n",
       "      <td>1</td>\n",
       "      <td>0</td>\n",
       "    </tr>\n",
       "    <tr>\n",
       "      <th>9</th>\n",
       "      <td>10.0</td>\n",
       "      <td>9.0</td>\n",
       "      <td>0</td>\n",
       "      <td>27</td>\n",
       "      <td>0</td>\n",
       "      <td>0</td>\n",
       "      <td>0</td>\n",
       "      <td>1</td>\n",
       "      <td>3</td>\n",
       "      <td>1</td>\n",
       "      <td>0</td>\n",
       "    </tr>\n",
       "    <tr>\n",
       "      <th>10</th>\n",
       "      <td>11.0</td>\n",
       "      <td>10.0</td>\n",
       "      <td>0</td>\n",
       "      <td>27</td>\n",
       "      <td>0</td>\n",
       "      <td>0</td>\n",
       "      <td>0</td>\n",
       "      <td>1</td>\n",
       "      <td>3</td>\n",
       "      <td>1</td>\n",
       "      <td>0</td>\n",
       "    </tr>\n",
       "    <tr>\n",
       "      <th>11</th>\n",
       "      <td>12.0</td>\n",
       "      <td>11.0</td>\n",
       "      <td>0</td>\n",
       "      <td>27</td>\n",
       "      <td>0</td>\n",
       "      <td>0</td>\n",
       "      <td>0</td>\n",
       "      <td>1</td>\n",
       "      <td>3</td>\n",
       "      <td>1</td>\n",
       "      <td>0</td>\n",
       "    </tr>\n",
       "    <tr>\n",
       "      <th>12</th>\n",
       "      <td>13.0</td>\n",
       "      <td>12.0</td>\n",
       "      <td>0</td>\n",
       "      <td>27</td>\n",
       "      <td>0</td>\n",
       "      <td>0</td>\n",
       "      <td>0</td>\n",
       "      <td>1</td>\n",
       "      <td>3</td>\n",
       "      <td>1</td>\n",
       "      <td>0</td>\n",
       "    </tr>\n",
       "    <tr>\n",
       "      <th>13</th>\n",
       "      <td>14.0</td>\n",
       "      <td>13.0</td>\n",
       "      <td>0</td>\n",
       "      <td>27</td>\n",
       "      <td>0</td>\n",
       "      <td>0</td>\n",
       "      <td>0</td>\n",
       "      <td>1</td>\n",
       "      <td>3</td>\n",
       "      <td>1</td>\n",
       "      <td>0</td>\n",
       "    </tr>\n",
       "    <tr>\n",
       "      <th>14</th>\n",
       "      <td>15.0</td>\n",
       "      <td>14.0</td>\n",
       "      <td>0</td>\n",
       "      <td>27</td>\n",
       "      <td>0</td>\n",
       "      <td>0</td>\n",
       "      <td>0</td>\n",
       "      <td>1</td>\n",
       "      <td>3</td>\n",
       "      <td>1</td>\n",
       "      <td>0</td>\n",
       "    </tr>\n",
       "    <tr>\n",
       "      <th>15</th>\n",
       "      <td>16.0</td>\n",
       "      <td>15.0</td>\n",
       "      <td>0</td>\n",
       "      <td>27</td>\n",
       "      <td>0</td>\n",
       "      <td>0</td>\n",
       "      <td>0</td>\n",
       "      <td>1</td>\n",
       "      <td>3</td>\n",
       "      <td>1</td>\n",
       "      <td>0</td>\n",
       "    </tr>\n",
       "    <tr>\n",
       "      <th>16</th>\n",
       "      <td>17.0</td>\n",
       "      <td>16.0</td>\n",
       "      <td>0</td>\n",
       "      <td>27</td>\n",
       "      <td>0</td>\n",
       "      <td>0</td>\n",
       "      <td>0</td>\n",
       "      <td>1</td>\n",
       "      <td>3</td>\n",
       "      <td>1</td>\n",
       "      <td>0</td>\n",
       "    </tr>\n",
       "    <tr>\n",
       "      <th>17</th>\n",
       "      <td>18.0</td>\n",
       "      <td>17.0</td>\n",
       "      <td>0</td>\n",
       "      <td>27</td>\n",
       "      <td>0</td>\n",
       "      <td>0</td>\n",
       "      <td>0</td>\n",
       "      <td>1</td>\n",
       "      <td>3</td>\n",
       "      <td>1</td>\n",
       "      <td>0</td>\n",
       "    </tr>\n",
       "    <tr>\n",
       "      <th>18</th>\n",
       "      <td>19.0</td>\n",
       "      <td>18.0</td>\n",
       "      <td>0</td>\n",
       "      <td>27</td>\n",
       "      <td>0</td>\n",
       "      <td>0</td>\n",
       "      <td>0</td>\n",
       "      <td>1</td>\n",
       "      <td>3</td>\n",
       "      <td>1</td>\n",
       "      <td>0</td>\n",
       "    </tr>\n",
       "    <tr>\n",
       "      <th>19</th>\n",
       "      <td>20.0</td>\n",
       "      <td>19.0</td>\n",
       "      <td>1</td>\n",
       "      <td>27</td>\n",
       "      <td>0</td>\n",
       "      <td>0</td>\n",
       "      <td>0</td>\n",
       "      <td>1</td>\n",
       "      <td>3</td>\n",
       "      <td>1</td>\n",
       "      <td>0</td>\n",
       "    </tr>\n",
       "    <tr>\n",
       "      <th>20</th>\n",
       "      <td>1.0</td>\n",
       "      <td>0.0</td>\n",
       "      <td>0</td>\n",
       "      <td>18</td>\n",
       "      <td>0</td>\n",
       "      <td>1</td>\n",
       "      <td>0</td>\n",
       "      <td>1</td>\n",
       "      <td>8</td>\n",
       "      <td>1</td>\n",
       "      <td>0</td>\n",
       "    </tr>\n",
       "    <tr>\n",
       "      <th>21</th>\n",
       "      <td>2.0</td>\n",
       "      <td>1.0</td>\n",
       "      <td>0</td>\n",
       "      <td>18</td>\n",
       "      <td>0</td>\n",
       "      <td>1</td>\n",
       "      <td>0</td>\n",
       "      <td>1</td>\n",
       "      <td>8</td>\n",
       "      <td>1</td>\n",
       "      <td>0</td>\n",
       "    </tr>\n",
       "    <tr>\n",
       "      <th>22</th>\n",
       "      <td>3.0</td>\n",
       "      <td>2.0</td>\n",
       "      <td>0</td>\n",
       "      <td>18</td>\n",
       "      <td>0</td>\n",
       "      <td>1</td>\n",
       "      <td>0</td>\n",
       "      <td>1</td>\n",
       "      <td>8</td>\n",
       "      <td>1</td>\n",
       "      <td>0</td>\n",
       "    </tr>\n",
       "    <tr>\n",
       "      <th>23</th>\n",
       "      <td>4.0</td>\n",
       "      <td>3.0</td>\n",
       "      <td>0</td>\n",
       "      <td>18</td>\n",
       "      <td>0</td>\n",
       "      <td>1</td>\n",
       "      <td>0</td>\n",
       "      <td>1</td>\n",
       "      <td>8</td>\n",
       "      <td>1</td>\n",
       "      <td>0</td>\n",
       "    </tr>\n",
       "    <tr>\n",
       "      <th>24</th>\n",
       "      <td>5.0</td>\n",
       "      <td>4.0</td>\n",
       "      <td>0</td>\n",
       "      <td>18</td>\n",
       "      <td>0</td>\n",
       "      <td>1</td>\n",
       "      <td>0</td>\n",
       "      <td>1</td>\n",
       "      <td>8</td>\n",
       "      <td>1</td>\n",
       "      <td>0</td>\n",
       "    </tr>\n",
       "  </tbody>\n",
       "</table>\n",
       "</div>"
      ],
      "text/plain": [
       "    stop  start  arrest  age  fin  id  mar  paro  prio  race  wexp\n",
       "0    1.0    0.0       0   27    0   0    0     1     3     1     0\n",
       "1    2.0    1.0       0   27    0   0    0     1     3     1     0\n",
       "2    3.0    2.0       0   27    0   0    0     1     3     1     0\n",
       "3    4.0    3.0       0   27    0   0    0     1     3     1     0\n",
       "4    5.0    4.0       0   27    0   0    0     1     3     1     0\n",
       "5    6.0    5.0       0   27    0   0    0     1     3     1     0\n",
       "6    7.0    6.0       0   27    0   0    0     1     3     1     0\n",
       "7    8.0    7.0       0   27    0   0    0     1     3     1     0\n",
       "8    9.0    8.0       0   27    0   0    0     1     3     1     0\n",
       "9   10.0    9.0       0   27    0   0    0     1     3     1     0\n",
       "10  11.0   10.0       0   27    0   0    0     1     3     1     0\n",
       "11  12.0   11.0       0   27    0   0    0     1     3     1     0\n",
       "12  13.0   12.0       0   27    0   0    0     1     3     1     0\n",
       "13  14.0   13.0       0   27    0   0    0     1     3     1     0\n",
       "14  15.0   14.0       0   27    0   0    0     1     3     1     0\n",
       "15  16.0   15.0       0   27    0   0    0     1     3     1     0\n",
       "16  17.0   16.0       0   27    0   0    0     1     3     1     0\n",
       "17  18.0   17.0       0   27    0   0    0     1     3     1     0\n",
       "18  19.0   18.0       0   27    0   0    0     1     3     1     0\n",
       "19  20.0   19.0       1   27    0   0    0     1     3     1     0\n",
       "20   1.0    0.0       0   18    0   1    0     1     8     1     0\n",
       "21   2.0    1.0       0   18    0   1    0     1     8     1     0\n",
       "22   3.0    2.0       0   18    0   1    0     1     8     1     0\n",
       "23   4.0    3.0       0   18    0   1    0     1     8     1     0\n",
       "24   5.0    4.0       0   18    0   1    0     1     8     1     0"
      ]
     },
     "execution_count": 12,
     "metadata": {},
     "output_type": "execute_result"
    }
   ],
   "source": [
    "from lifelines.utils import to_episodic_format\n",
    "\n",
    "# the time_gaps parameter specifies how large or small you want the periods to be. \n",
    "rossi_long = to_episodic_format(rossi, duration_col='week', event_col='arrest', time_gaps=1.)\n",
    "rossi_long.head(25)\n"
   ]
  },
  {
   "cell_type": "markdown",
   "metadata": {},
   "source": [
    "Each subject is given a new id (but can be specified as well if already provided in the dataframe). This id is used to track subjects over time. Notice the `arrest` col is 0 for all periods prior to their (possible) event as well. \n",
    "\n",
    "Above I mentioned there were two steps to correct `age`. The first was to convert to a episodic format. The second is to create an interaction term between `age` and `stop`. This is a time-varying variable.\n",
    "\n",
    "Instead of `CoxPHFitter`, we must use `CoxTimeVaryingFitter` instead since we are working with a episodic dataset. "
   ]
  },
  {
   "cell_type": "code",
   "execution_count": 13,
   "metadata": {},
   "outputs": [],
   "source": [
    "rossi_long['time*age'] = rossi_long['age'] * rossi_long['stop']"
   ]
  },
  {
   "cell_type": "code",
   "execution_count": 14,
   "metadata": {},
   "outputs": [
    {
     "data": {
      "text/plain": [
       "<lifelines.CoxTimeVaryingFitter: fitted with 19809 periods, 432 subjects, 114 events>"
      ]
     },
     "execution_count": 14,
     "metadata": {},
     "output_type": "execute_result"
    }
   ],
   "source": [
    "from lifelines import CoxTimeVaryingFitter\n",
    "ctv = CoxTimeVaryingFitter()\n",
    "\n",
    "ctv.fit(rossi_long, \n",
    "        id_col='id', \n",
    "        event_col='arrest', \n",
    "        start_col='start', \n",
    "        stop_col='stop', \n",
    "        strata=['wexp'])"
   ]
  },
  {
   "cell_type": "code",
   "execution_count": 15,
   "metadata": {},
   "outputs": [
    {
     "name": "stdout",
     "output_type": "stream",
     "text": [
      "<lifelines.CoxTimeVaryingFitter: fitted with 19809 periods, 432 subjects, 114 events>\n",
      "         event col = 'arrest'\n",
      "            strata = ['wexp']\n",
      "number of subjects = 432\n",
      " number of periods = 19809\n",
      "  number of events = 114\n",
      "    log-likelihood = -575.080\n",
      "  time fit was run = 2019-02-19 17:30:53 UTC\n",
      "\n",
      "---\n",
      "           coef  exp(coef)  se(coef)      z     p  -log2(p)  lower 0.95  upper 0.95\n",
      "age       0.073      1.075     0.040  1.830 0.067     3.893      -0.005       0.151\n",
      "fin      -0.386      0.680     0.191 -2.018 0.044     4.520      -0.760      -0.011\n",
      "mar      -0.397      0.672     0.382 -1.039 0.299     1.743      -1.147       0.352\n",
      "paro     -0.098      0.907     0.196 -0.501 0.616     0.698      -0.481       0.285\n",
      "prio      0.090      1.094     0.029  3.152 0.002     9.267       0.034       0.146\n",
      "race      0.295      1.343     0.308  0.955 0.340     1.558      -0.310       0.899\n",
      "time*age -0.005      0.995     0.002 -3.337 0.001    10.203      -0.008      -0.002\n",
      "---\n",
      "Log-likelihood ratio test = -1150.160 on 7 df, -log2(p)=-0.000\n"
     ]
    }
   ],
   "source": [
    "ctv.print_summary(3)"
   ]
  },
  {
   "cell_type": "code",
   "execution_count": 16,
   "metadata": {},
   "outputs": [
    {
     "data": {
      "text/plain": [
       "<matplotlib.axes._subplots.AxesSubplot at 0x124bc2f28>"
      ]
     },
     "execution_count": 16,
     "metadata": {},
     "output_type": "execute_result"
    },
    {
     "data": {
      "image/png": "[encoded data removed]",
      "text/plain": [
       "<Figure size 432x288 with 1 Axes>"
      ]
     },
     "metadata": {
      "image/png": {
       "height": 263,
       "width": 410
      },
      "needs_background": "light"
     },
     "output_type": "display_data"
    }
   ],
   "source": [
    "ctv.plot()"
   ]
  },
  {
   "cell_type": "markdown",
   "metadata": {},
   "source": [
    "In the above scaled Schoenfeld residual plots for `age`, we can see there is a slight negative effect for higher time values. This is confirmed in the output of the `CoxTimeVaryingFitter`: we see that the coefficient for `time*age` is -0.005.\n",
    "\n",
    "#### Conclusion\n",
    "\n",
    "The point estimates and the standard errors are very close to each other using either option, we can feel confident that either approach is okay to proceed. "
   ]
  }
 ],
 "metadata": {
  "kernelspec": {
   "display_name": "Python 3",
   "language": "python",
   "name": "python3"
  },
  "language_info": {
   "codemirror_mode": {
    "name": "ipython",
    "version": 3
   },
   "file_extension": ".py",
   "mimetype": "text/x-python",
   "name": "python",
   "nbconvert_exporter": "python",
   "pygments_lexer": "ipython3",
   "version": "3.7.2"
  }
 },
 "nbformat": 4,
 "nbformat_minor": 2
}
